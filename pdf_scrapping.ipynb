{
 "cells": [
  {
   "cell_type": "code",
   "execution_count": 1,
   "metadata": {},
   "outputs": [],
   "source": [
    "import pdf2txt"
   ]
  },
  {
   "cell_type": "code",
   "execution_count": 2,
   "metadata": {},
   "outputs": [
    {
     "name": "stdout",
     "output_type": "stream",
     "text": [
      "Name: pdf2txt\n",
      "Version: 0.5.86\n",
      "Summary: A better pdf to text extraction toolkit\n",
      "Home-page: UNKNOWN\n",
      "Author: Mohamed Ben Haddou\n",
      "Author-email: mbenhaddou@mentis.io\n",
      "License: UNKNOWN\n",
      "Location: /home/koolaid/.local/lib/python3.8/site-packages\n",
      "Requires: PyPDF2, pdf2image, pdfminer.six, Pillow, pandas\n",
      "Required-by: \n"
     ]
    }
   ],
   "source": [
    "!pip3 show pdf2txt"
   ]
  },
  {
   "cell_type": "code",
   "execution_count": 5,
   "metadata": {},
   "outputs": [
    {
     "ename": "SyntaxError",
     "evalue": "invalid syntax (<ipython-input-5-d596228e566e>, line 1)",
     "output_type": "error",
     "traceback": [
      "\u001b[0;36m  File \u001b[0;32m\"<ipython-input-5-d596228e566e>\"\u001b[0;36m, line \u001b[0;32m1\u001b[0m\n\u001b[0;31m    pdf2txt home/koolaid/Downloads/lib_pages/ilovepdf_extracted-pages/libera_platform_22.pdf\u001b[0m\n\u001b[0m            ^\u001b[0m\n\u001b[0;31mSyntaxError\u001b[0m\u001b[0;31m:\u001b[0m invalid syntax\n"
     ]
    }
   ],
   "source": [
    "pdf2txt -o output.txt home/koolaid/Downloads/lib_pages/ilovepdf_extracted-pages/libera_platform_22.pdf"
   ]
  },
  {
   "cell_type": "code",
   "execution_count": 3,
   "metadata": {},
   "outputs": [
    {
     "name": "stdout",
     "output_type": "stream",
     "text": [
      "Name: pdf2txt\n",
      "Version: 0.5.86\n",
      "Summary: A better pdf to text extraction toolkit\n",
      "Home-page: UNKNOWN\n",
      "Author: Mohamed Ben Haddou\n",
      "Author-email: mbenhaddou@mentis.io\n",
      "License: UNKNOWN\n",
      "Location: /home/koolaid/.local/lib/python3.8/site-packages\n",
      "Requires: PyPDF2, pdf2image, pandas, pdfminer.six, Pillow\n",
      "Required-by: \n"
     ]
    }
   ],
   "source": [
    "!pip3 show pdf2txt"
   ]
  },
  {
   "cell_type": "code",
   "execution_count": 2,
   "metadata": {},
   "outputs": [],
   "source": [
    "import pdftotext"
   ]
  },
  {
   "cell_type": "code",
   "execution_count": 6,
   "metadata": {},
   "outputs": [
    {
     "name": "stdout",
     "output_type": "stream",
     "text": [
      "1\n",
      "To fill this gap, we will move forward with creating  to be able to take online courses or apply for work,\n",
      "a National Infrastructure Fund. The Fund will seek    high-speed internet is a necessity, not a luxury.\n",
      "out and support major nation-building projects that\n",
      "will benefit people across various regions, connect   To ensure that every person in Canada has access\n",
      "our country, and help improve the quality of life and to reliable, high-speed internet – including the\n",
      "standard of living of Canadians in significant and    1.5 million households that would otherwise be\n",
      "long-lasting ways.                                    underserved – we will move forward with building a\n",
      "                                                      fully connected Canada, including our rural, remote\n",
      "We will begin right away by supporting projects like  and northern communities. Earlier this year, we\n",
      "the Newfoundland-Labrador fixed transportation        set a national target to ensure that 95 per cent of\n",
      "link, which will give people living on the island of  Canadian homes and businesses will have high-\n",
      "Newfoundland a permanent and secure way to            speed internet by 2026, and 100 per cent by 2030,\n",
      "travel to and from mainland Canada, while helping     no matter where they are located in the country.\n",
      "to make things like food and household goods          This ambitious plan will help businesses grow,\n",
      "more affordable.                                      create new jobs, and connect more people to the\n",
      "                                                      resources, services and information they need to\n",
      "Further projects will be identified as the            build a better future.\n",
      "National Infrastructure Fund is established.\n",
      "                                                      Public Transit\n",
      "Support For Communities That Rely\n",
      "                                                      We will strengthen investments in public transit\n",
      "On Tourism                                            to shorten commute times, cut air pollution, and\n",
      "We will help people living in communities that rely   grow our economy.\n",
      "on tourism get the infrastructure their\n",
      "communities need.                                     In the last four years, we have made the largest\n",
      "                                                      investments in public transit in Canadian history,\n",
      "Tourism in Canada is strong and growing. Last year,   but traffic congestion continues to be a serious\n",
      "Canadian communities of all sizes welcomed more       problem in our cities, making it hard for families\n",
      "than 21 million international visitors, supporting    to spend time together, and costing our economy\n",
      "local economies and good, middle class jobs.          about $15 billion a year in lost productivity.\n",
      "At the same time, communities that see a big          To give cities the predictable transit funding they\n",
      "influx of visitors can sometimes find it hard to keep need to plan for the future, we will move forward\n",
      "up with local needs – like adequate housing and       with making the federal commitment to fund public\n",
      "community spaces.                                     transit permanent, and will make sure that it keeps\n",
      "                                                      up with the rising cost of construction over time.\n",
      "To help these communities better serve their\n",
      "                                                      This will mean an additional $3 billion more per\n",
      "residents, we will build on the new Federal Tourism\n",
      "                                                      year in stable, predictable funding for our cities’\n",
      "Growth Strategy and move forward with a\n",
      "                                                      transit needs, on top of transfers through\n",
      "Tourism Community Infrastructure Fund to invest\n",
      "                                                      the federal Gas Tax Fund.\n",
      "$100 million in the local needs of communities that\n",
      "rely on tourism, over the next four years. These\n",
      "funds will be delivered and managed through\n",
      "regional economic development agencies.\n",
      "Universal High-Speed Internet\n",
      "We will ensure that every Canadian has access\n",
      "                                                                           $3b\n",
      "                                                                             increase\n",
      "to high-speed internet by 2030.\n",
      "For small businesses looking to reach customers\n",
      "around the world, seniors who want to stay in\n",
      "                                                                            in stable\n",
      "touch with family and friends, or students who                         transit funding\n",
      "want to move home for the summer but still need\n",
      "CHOOSE FORWARD : INVESTING IN GOOD, MIDDLE CLASS JOBS                                                     22\n",
      "\n"
     ]
    }
   ],
   "source": [
    "import pdftotext\n",
    "# Load your PDF\n",
    "with open(\"/home/koolaid/Downloads/lib_pages/ilovepdf_extracted-pages/libera_platform-22.pdf\", \"rb\") as f:\n",
    "    pdf = pdftotext.PDF(f)\n",
    "\n",
    "# How many pages?\n",
    "print (len(pdf))\n",
    "\n",
    "# Iterate over all the pages\n",
    "for page in pdf:\n",
    "    print(page)\n",
    "\n",
    "# Read some individual pages\n",
    "#print(pdf[0])\n",
    "\n",
    "# Read all the text into one string\n",
    "#print(\"\\n\\n\".join(pdf))"
   ]
  },
  {
   "cell_type": "code",
   "execution_count": null,
   "metadata": {},
   "outputs": [],
   "source": []
  },
  {
   "cell_type": "code",
   "execution_count": 1,
   "metadata": {},
   "outputs": [
    {
     "name": "stdout",
     "output_type": "stream",
     "text": [
      "b'To fill this gap, we will move forward with creating \\na National Infrastructure Fund. The Fund will seek \\nout and support major nation-building projects that \\nwill benefit people across various regions, connect \\nour country, and help improve the quality of life and \\nstandard of living of Canadians in significant and \\nlong-lasting ways. \\n\\nWe will begin right away by supporting projects like \\nthe Newfoundland-Labrador fixed transportation \\nlink, which will give people living on the island of \\nNewfoundland a permanent and secure way to \\ntravel to and from mainland Canada, while helping \\nto make things like food and household goods  \\nmore affordable. \\n\\nFurther projects will be identified as the  \\nNational Infrastructure Fund is established.\\n\\nSupport For Communities That Rely  \\nOn Tourism\\nWe will help people living in communities that rely \\non tourism get the infrastructure their  \\ncommunities need.\\n\\nTourism in Canada is strong and growing. Last year, \\nCanadian communities of all sizes welcomed more \\nthan 21 million international visitors, supporting \\nlocal economies and good, middle class jobs. \\n\\nAt the same time, communities that see a big \\ninflux of visitors can sometimes find it hard to keep \\nup with local needs \\xe2\\x80\\x93 like adequate housing and \\ncommunity spaces. \\n\\nTo help these communities better serve their \\nresidents, we will build on the new Federal Tourism \\nGrowth Strategy and move forward with a  \\nTourism Community Infrastructure Fund to invest \\n$100 million in the local needs of communities that \\nrely on tourism, over the next four years. These \\nfunds will be delivered and managed through \\nregional economic development agencies.\\n\\nUniversal High-Speed Internet\\nWe will ensure that every Canadian has access \\nto high-speed internet by 2030.\\n\\nFor small businesses looking to reach customers \\naround the world, seniors who want to stay in \\ntouch with family and friends, or students who \\nwant to move home for the summer but still need \\n\\nto be able to take online courses or apply for work, \\nhigh-speed internet is a necessity, not a luxury.\\n\\nTo ensure that every person in Canada has access \\nto reliable, high-speed internet \\xe2\\x80\\x93 including the \\n1.5 million households that would otherwise be \\nunderserved \\xe2\\x80\\x93 we will move forward with building a \\nfully connected Canada, including our rural, remote \\nand northern communities. Earlier this year, we \\nset a national target to ensure that 95 per cent of \\nCanadian homes and businesses will have high-\\nspeed internet by 2026, and 100 per cent by 2030, \\nno matter where they are located in the country. \\nThis ambitious plan will help businesses grow, \\ncreate new jobs, and connect more people to the \\nresources, services and information they need to \\nbuild a better future. \\n\\nPublic Transit\\nWe will strengthen investments in public transit \\nto shorten commute times, cut air pollution, and \\ngrow our economy.\\n\\nIn the last four years, we have made the largest \\ninvestments in public transit in Canadian history, \\nbut traffic congestion continues to be a serious \\nproblem in our cities, making it hard for families \\nto spend time together, and costing our economy \\nabout $15 billion a year in lost productivity.\\n\\nTo give cities the predictable transit funding they \\nneed to plan for the future, we will move forward \\nwith making the federal commitment to fund public \\ntransit permanent, and will make sure that it keeps \\nup with the rising cost of construction over time. \\nThis will mean an additional $3 billion more per \\nyear in stable, predictable funding for our cities\\xe2\\x80\\x99 \\ntransit needs, on top of transfers through  \\nthe federal Gas Tax Fund.\\n\\n$3b\\n\\nincrease\\n\\nin stable\\ntransit funding\\n\\nCHOOSE FORWARD : INVESTING IN GOOD, MIDDLE CLASS JOBS \\n\\n22\\n\\n\\x0c'\n"
     ]
    }
   ],
   "source": [
    "from pdfminer.pdfinterp import PDFResourceManager, PDFPageInterpreter\n",
    "from pdfminer.converter import TextConverter\n",
    "from pdfminer.layout import LAParams\n",
    "from pdfminer.pdfpage import PDFPage\n",
    "from io import BytesIO\n",
    "\n",
    "def pdf_to_text(path):\n",
    "    manager = PDFResourceManager()\n",
    "    retstr = BytesIO()\n",
    "    layout = LAParams(all_texts=True)\n",
    "    device = TextConverter(manager, retstr, laparams=layout)\n",
    "    filepath = open(path, 'rb')\n",
    "    interpreter = PDFPageInterpreter(manager, device)\n",
    "\n",
    "    for page in PDFPage.get_pages(filepath, check_extractable=True):\n",
    "        interpreter.process_page(page)\n",
    "\n",
    "    text = retstr.getvalue()\n",
    "\n",
    "    filepath.close()\n",
    "    device.close()\n",
    "    retstr.close()\n",
    "    return text\n",
    "\n",
    "\n",
    "if __name__ == \"__main__\":\n",
    "    text = pdf_to_text(\"/home/koolaid/Downloads/lib_pages/ilovepdf_extracted-pages/libera_platform-22.pdf\")\n",
    "    print(text)"
   ]
  },
  {
   "cell_type": "code",
   "execution_count": null,
   "metadata": {},
   "outputs": [],
   "source": []
  },
  {
   "cell_type": "code",
   "execution_count": 3,
   "metadata": {},
   "outputs": [
    {
     "ename": "OSError",
     "evalue": "Expected file path name or file-like object, got <class 'bytes'> type",
     "output_type": "error",
     "traceback": [
      "\u001b[0;31m---------------------------------------------------------------------------\u001b[0m",
      "\u001b[0;31mOSError\u001b[0m                                   Traceback (most recent call last)",
      "\u001b[0;32m<ipython-input-3-119efd4d893e>\u001b[0m in \u001b[0;36m<module>\u001b[0;34m\u001b[0m\n\u001b[1;32m      1\u001b[0m \u001b[0;32mimport\u001b[0m \u001b[0mpandas\u001b[0m \u001b[0;32mas\u001b[0m \u001b[0mpd\u001b[0m\u001b[0;34m\u001b[0m\u001b[0;34m\u001b[0m\u001b[0m\n\u001b[1;32m      2\u001b[0m \u001b[0;34m\u001b[0m\u001b[0m\n\u001b[0;32m----> 3\u001b[0;31m \u001b[0mread_file\u001b[0m \u001b[0;34m=\u001b[0m \u001b[0mpd\u001b[0m\u001b[0;34m.\u001b[0m\u001b[0mread_csv\u001b[0m \u001b[0;34m(\u001b[0m\u001b[0mtext\u001b[0m\u001b[0;34m)\u001b[0m\u001b[0;34m\u001b[0m\u001b[0;34m\u001b[0m\u001b[0m\n\u001b[0m\u001b[1;32m      4\u001b[0m \u001b[0mread_file\u001b[0m\u001b[0;34m.\u001b[0m\u001b[0mto_csv\u001b[0m \u001b[0;34m(\u001b[0m\u001b[0;34mr'home/koolaid/Downloads/lib_pages/ilovepdf_extracted-pages/pg-22.csv'\u001b[0m\u001b[0;34m,\u001b[0m \u001b[0mindex\u001b[0m\u001b[0;34m=\u001b[0m\u001b[0;32mNone\u001b[0m\u001b[0;34m)\u001b[0m\u001b[0;34m\u001b[0m\u001b[0;34m\u001b[0m\u001b[0m\n",
      "\u001b[0;32m~/.local/lib/python3.8/site-packages/pandas/io/parsers.py\u001b[0m in \u001b[0;36mread_csv\u001b[0;34m(filepath_or_buffer, sep, delimiter, header, names, index_col, usecols, squeeze, prefix, mangle_dupe_cols, dtype, engine, converters, true_values, false_values, skipinitialspace, skiprows, skipfooter, nrows, na_values, keep_default_na, na_filter, verbose, skip_blank_lines, parse_dates, infer_datetime_format, keep_date_col, date_parser, dayfirst, cache_dates, iterator, chunksize, compression, thousands, decimal, lineterminator, quotechar, quoting, doublequote, escapechar, comment, encoding, dialect, error_bad_lines, warn_bad_lines, delim_whitespace, low_memory, memory_map, float_precision)\u001b[0m\n\u001b[1;32m    686\u001b[0m     )\n\u001b[1;32m    687\u001b[0m \u001b[0;34m\u001b[0m\u001b[0m\n\u001b[0;32m--> 688\u001b[0;31m     \u001b[0;32mreturn\u001b[0m \u001b[0m_read\u001b[0m\u001b[0;34m(\u001b[0m\u001b[0mfilepath_or_buffer\u001b[0m\u001b[0;34m,\u001b[0m \u001b[0mkwds\u001b[0m\u001b[0;34m)\u001b[0m\u001b[0;34m\u001b[0m\u001b[0;34m\u001b[0m\u001b[0m\n\u001b[0m\u001b[1;32m    689\u001b[0m \u001b[0;34m\u001b[0m\u001b[0m\n\u001b[1;32m    690\u001b[0m \u001b[0;34m\u001b[0m\u001b[0m\n",
      "\u001b[0;32m~/.local/lib/python3.8/site-packages/pandas/io/parsers.py\u001b[0m in \u001b[0;36m_read\u001b[0;34m(filepath_or_buffer, kwds)\u001b[0m\n\u001b[1;32m    452\u001b[0m \u001b[0;34m\u001b[0m\u001b[0m\n\u001b[1;32m    453\u001b[0m     \u001b[0;31m# Create the parser.\u001b[0m\u001b[0;34m\u001b[0m\u001b[0;34m\u001b[0m\u001b[0;34m\u001b[0m\u001b[0m\n\u001b[0;32m--> 454\u001b[0;31m     \u001b[0mparser\u001b[0m \u001b[0;34m=\u001b[0m \u001b[0mTextFileReader\u001b[0m\u001b[0;34m(\u001b[0m\u001b[0mfp_or_buf\u001b[0m\u001b[0;34m,\u001b[0m \u001b[0;34m**\u001b[0m\u001b[0mkwds\u001b[0m\u001b[0;34m)\u001b[0m\u001b[0;34m\u001b[0m\u001b[0;34m\u001b[0m\u001b[0m\n\u001b[0m\u001b[1;32m    455\u001b[0m \u001b[0;34m\u001b[0m\u001b[0m\n\u001b[1;32m    456\u001b[0m     \u001b[0;32mif\u001b[0m \u001b[0mchunksize\u001b[0m \u001b[0;32mor\u001b[0m \u001b[0miterator\u001b[0m\u001b[0;34m:\u001b[0m\u001b[0;34m\u001b[0m\u001b[0;34m\u001b[0m\u001b[0m\n",
      "\u001b[0;32m~/.local/lib/python3.8/site-packages/pandas/io/parsers.py\u001b[0m in \u001b[0;36m__init__\u001b[0;34m(self, f, engine, **kwds)\u001b[0m\n\u001b[1;32m    946\u001b[0m             \u001b[0mself\u001b[0m\u001b[0;34m.\u001b[0m\u001b[0moptions\u001b[0m\u001b[0;34m[\u001b[0m\u001b[0;34m\"has_index_names\"\u001b[0m\u001b[0;34m]\u001b[0m \u001b[0;34m=\u001b[0m \u001b[0mkwds\u001b[0m\u001b[0;34m[\u001b[0m\u001b[0;34m\"has_index_names\"\u001b[0m\u001b[0;34m]\u001b[0m\u001b[0;34m\u001b[0m\u001b[0;34m\u001b[0m\u001b[0m\n\u001b[1;32m    947\u001b[0m \u001b[0;34m\u001b[0m\u001b[0m\n\u001b[0;32m--> 948\u001b[0;31m         \u001b[0mself\u001b[0m\u001b[0;34m.\u001b[0m\u001b[0m_make_engine\u001b[0m\u001b[0;34m(\u001b[0m\u001b[0mself\u001b[0m\u001b[0;34m.\u001b[0m\u001b[0mengine\u001b[0m\u001b[0;34m)\u001b[0m\u001b[0;34m\u001b[0m\u001b[0;34m\u001b[0m\u001b[0m\n\u001b[0m\u001b[1;32m    949\u001b[0m \u001b[0;34m\u001b[0m\u001b[0m\n\u001b[1;32m    950\u001b[0m     \u001b[0;32mdef\u001b[0m \u001b[0mclose\u001b[0m\u001b[0;34m(\u001b[0m\u001b[0mself\u001b[0m\u001b[0;34m)\u001b[0m\u001b[0;34m:\u001b[0m\u001b[0;34m\u001b[0m\u001b[0;34m\u001b[0m\u001b[0m\n",
      "\u001b[0;32m~/.local/lib/python3.8/site-packages/pandas/io/parsers.py\u001b[0m in \u001b[0;36m_make_engine\u001b[0;34m(self, engine)\u001b[0m\n\u001b[1;32m   1178\u001b[0m     \u001b[0;32mdef\u001b[0m \u001b[0m_make_engine\u001b[0m\u001b[0;34m(\u001b[0m\u001b[0mself\u001b[0m\u001b[0;34m,\u001b[0m \u001b[0mengine\u001b[0m\u001b[0;34m=\u001b[0m\u001b[0;34m\"c\"\u001b[0m\u001b[0;34m)\u001b[0m\u001b[0;34m:\u001b[0m\u001b[0;34m\u001b[0m\u001b[0;34m\u001b[0m\u001b[0m\n\u001b[1;32m   1179\u001b[0m         \u001b[0;32mif\u001b[0m \u001b[0mengine\u001b[0m \u001b[0;34m==\u001b[0m \u001b[0;34m\"c\"\u001b[0m\u001b[0;34m:\u001b[0m\u001b[0;34m\u001b[0m\u001b[0;34m\u001b[0m\u001b[0m\n\u001b[0;32m-> 1180\u001b[0;31m             \u001b[0mself\u001b[0m\u001b[0;34m.\u001b[0m\u001b[0m_engine\u001b[0m \u001b[0;34m=\u001b[0m \u001b[0mCParserWrapper\u001b[0m\u001b[0;34m(\u001b[0m\u001b[0mself\u001b[0m\u001b[0;34m.\u001b[0m\u001b[0mf\u001b[0m\u001b[0;34m,\u001b[0m \u001b[0;34m**\u001b[0m\u001b[0mself\u001b[0m\u001b[0;34m.\u001b[0m\u001b[0moptions\u001b[0m\u001b[0;34m)\u001b[0m\u001b[0;34m\u001b[0m\u001b[0;34m\u001b[0m\u001b[0m\n\u001b[0m\u001b[1;32m   1181\u001b[0m         \u001b[0;32melse\u001b[0m\u001b[0;34m:\u001b[0m\u001b[0;34m\u001b[0m\u001b[0;34m\u001b[0m\u001b[0m\n\u001b[1;32m   1182\u001b[0m             \u001b[0;32mif\u001b[0m \u001b[0mengine\u001b[0m \u001b[0;34m==\u001b[0m \u001b[0;34m\"python\"\u001b[0m\u001b[0;34m:\u001b[0m\u001b[0;34m\u001b[0m\u001b[0;34m\u001b[0m\u001b[0m\n",
      "\u001b[0;32m~/.local/lib/python3.8/site-packages/pandas/io/parsers.py\u001b[0m in \u001b[0;36m__init__\u001b[0;34m(self, src, **kwds)\u001b[0m\n\u001b[1;32m   2008\u001b[0m         \u001b[0mkwds\u001b[0m\u001b[0;34m[\u001b[0m\u001b[0;34m\"usecols\"\u001b[0m\u001b[0;34m]\u001b[0m \u001b[0;34m=\u001b[0m \u001b[0mself\u001b[0m\u001b[0;34m.\u001b[0m\u001b[0musecols\u001b[0m\u001b[0;34m\u001b[0m\u001b[0;34m\u001b[0m\u001b[0m\n\u001b[1;32m   2009\u001b[0m \u001b[0;34m\u001b[0m\u001b[0m\n\u001b[0;32m-> 2010\u001b[0;31m         \u001b[0mself\u001b[0m\u001b[0;34m.\u001b[0m\u001b[0m_reader\u001b[0m \u001b[0;34m=\u001b[0m \u001b[0mparsers\u001b[0m\u001b[0;34m.\u001b[0m\u001b[0mTextReader\u001b[0m\u001b[0;34m(\u001b[0m\u001b[0msrc\u001b[0m\u001b[0;34m,\u001b[0m \u001b[0;34m**\u001b[0m\u001b[0mkwds\u001b[0m\u001b[0;34m)\u001b[0m\u001b[0;34m\u001b[0m\u001b[0;34m\u001b[0m\u001b[0m\n\u001b[0m\u001b[1;32m   2011\u001b[0m         \u001b[0mself\u001b[0m\u001b[0;34m.\u001b[0m\u001b[0munnamed_cols\u001b[0m \u001b[0;34m=\u001b[0m \u001b[0mself\u001b[0m\u001b[0;34m.\u001b[0m\u001b[0m_reader\u001b[0m\u001b[0;34m.\u001b[0m\u001b[0munnamed_cols\u001b[0m\u001b[0;34m\u001b[0m\u001b[0;34m\u001b[0m\u001b[0m\n\u001b[1;32m   2012\u001b[0m \u001b[0;34m\u001b[0m\u001b[0m\n",
      "\u001b[0;32mpandas/_libs/parsers.pyx\u001b[0m in \u001b[0;36mpandas._libs.parsers.TextReader.__cinit__\u001b[0;34m()\u001b[0m\n",
      "\u001b[0;32mpandas/_libs/parsers.pyx\u001b[0m in \u001b[0;36mpandas._libs.parsers.TextReader._setup_parser_source\u001b[0;34m()\u001b[0m\n",
      "\u001b[0;31mOSError\u001b[0m: Expected file path name or file-like object, got <class 'bytes'> type"
     ]
    }
   ],
   "source": [
    "import pandas as pd\n",
    "\n",
    "read_file = pd.read_csv (text)\n",
    "read_file.to_csv (r'home/koolaid/Downloads/lib_pages/ilovepdf_extracted-pages/pg-22.csv', index=None)"
   ]
  },
  {
   "cell_type": "code",
   "execution_count": null,
   "metadata": {},
   "outputs": [],
   "source": []
  }
 ],
 "metadata": {
  "kernelspec": {
   "display_name": "Python 3",
   "language": "python",
   "name": "python3"
  },
  "language_info": {
   "codemirror_mode": {
    "name": "ipython",
    "version": 3
   },
   "file_extension": ".py",
   "mimetype": "text/x-python",
   "name": "python",
   "nbconvert_exporter": "python",
   "pygments_lexer": "ipython3",
   "version": "3.8.5"
  }
 },
 "nbformat": 4,
 "nbformat_minor": 4
}
